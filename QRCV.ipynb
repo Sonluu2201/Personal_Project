{
  "nbformat": 4,
  "nbformat_minor": 0,
  "metadata": {
    "colab": {
      "provenance": []
    },
    "kernelspec": {
      "name": "python3",
      "display_name": "Python 3"
    },
    "language_info": {
      "name": "python"
    }
  },
  "cells": [
    {
      "cell_type": "code",
      "source": [
        "# Importing library\n",
        "!pip install qrcode\n",
        "import qrcode"
      ],
      "metadata": {
        "colab": {
          "base_uri": "https://localhost:8080/"
        },
        "id": "jdc4KyvRhbo8",
        "outputId": "ea8fe329-e236-4f89-f1ce-d25207ef16ba"
      },
      "execution_count": 7,
      "outputs": [
        {
          "output_type": "stream",
          "name": "stdout",
          "text": [
            "Looking in indexes: https://pypi.org/simple, https://us-python.pkg.dev/colab-wheels/public/simple/\n",
            "Requirement already satisfied: qrcode in /usr/local/lib/python3.8/dist-packages (7.3.1)\n"
          ]
        }
      ]
    },
    {
      "cell_type": "code",
      "execution_count": 10,
      "metadata": {
        "id": "tQH4_4Ppg-dI"
      },
      "outputs": [],
      "source": [
        "# Data to be encoded\n",
        "data = 'https://www.topcv.vn/xem-cv/C1RWAQRRDAYAAVECCQINVlVVBAUBBg1QDltTVgf101'\n",
        "# Encoding data using make() function\n",
        "img = qrcode.make(data)\n",
        "# Saving as an image file\n",
        "img.save('MyCV-QR.png')"
      ]
    }
  ]
}