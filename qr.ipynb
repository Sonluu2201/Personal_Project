# Importing library
import qrcode
 
# Data to be encoded
data = 'https://www.topcv.vn/xem-cv/C1RWAQRRDAYAAVECCQINVlVVBAUBBg1QDltTVgf101'
 
# Encoding data using make() function
img = qrcode.make(data)
 
# Saving as an image file
img.save('MyQRCode1.png')
